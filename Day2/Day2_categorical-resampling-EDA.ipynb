{
 "cells": [
  {
   "cell_type": "code",
   "execution_count": null,
   "metadata": {
    "scrolled": false
   },
   "outputs": [],
   "source": [
    "installOrLoad <- function(pkgs){\n",
    "    for (pkg in pkgs){\n",
    "        if(!require(pkg, character.only=TRUE)){\n",
    "            BiocManager::install(pkg)\n",
    "            require(pkg, character.only=TRUE)\n",
    "        }\n",
    "    }\n",
    "}\n",
    "installOrLoad(c(\"epitools\", \"genomicsclass/GSE5859Subset\", \"rafalib\", \"UsingR\", \"genefilter\", \"pheatmap\"))"
   ]
  },
  {
   "cell_type": "markdown",
   "metadata": {},
   "source": [
    "## Session 2 outline\n",
    "\n",
    "- Hypothesis testing for categorical variables\n",
    "    - Fisher's Exact Test and Chi-square Test: [\"Association tests\" book section](http://genomicsclass.github.io/book/pages/association_tests.html)\n",
    "\n",
    "- Resampling methods\n",
    "    + [Permutation Tests](http://genomicsclass.github.io/book/pages/permutation_tests.html)\n",
    "    + [Cross-validation](http://genomicsclass.github.io/book/pages/crossvalidation.html)\n",
    "    + bootstrap simulation (ISLR)\n",
    "\n",
    "- [Exploratory data analysis](http://genomicsclass.github.io/book/pages/exploratory_data_analysis.html)\n",
    "\n",
    "Additional use of James, Witten, Hastie, Tibshirani. An Introduction to Statistical Learning with Applications in R. Springer, 2014. http://www-bcf.usc.edu/~gareth/ISL/. Referred to as \"ISLR\".\n",
    "\n",
    "# Hypothesis testing for categorical variables\n",
    "\n",
    "- Hypothesis testing and confidence intervals for one or two continuous variables: \n",
    "    - *Z-test, t-test, correlation*\n",
    "\n",
    "- Two binary variables:\n",
    "    - Fisher's Exact Test\n",
    "    - Pearson's Chi-square Test\n",
    "\n",
    "## Lady Tasting Tea\n",
    "\n",
    "- The Lady in question claimed to be able to tell whether the tea or the milk was added first to a cup\n",
    "- Fisher proposed to give her eight cups, four of each variety, in random order\n",
    "    - the Lady is **fully informed** of the experimental method\n",
    "    - $H_0$: the Lady has no ability to tell which was added first\n",
    "\n",
    "<center>\n",
    "<img src=\"https://upload.wikimedia.org/wikipedia/commons/thumb/3/37/Nice_Cup_of_Tea.jpg/330px-Nice_Cup_of_Tea.jpg\" alt=\"Lady tasting tea\" align=\"middle\" style=\"height: 200px;\">\n",
    "</center>\n",
    "\n",
    "Source: https://en.wikipedia.org/wiki/Lady_tasting_tea\n",
    "\n",
    "## Fisher's Exact Test\n",
    "\n",
    "p-value is the probability of the observed number of successes, or more, under $H_0$\n",
    "\n",
    "<table>\n",
    "<caption>Tea-Tasting Distribution</caption>\n",
    "<tr>\n",
    "<th scope=\"col\">Success count</th>\n",
    "<th scope=\"col\">Permutations of selection</th>\n",
    "<th scope=\"col\">Number of permutations</th>\n",
    "</tr>\n",
    "<tr>\n",
    "<td>0</td>\n",
    "<td>oooo</td>\n",
    "<td>1 × 1 = 1</td>\n",
    "</tr>\n",
    "<tr>\n",
    "<td>1</td>\n",
    "<td>ooox, ooxo, oxoo, xooo</td>\n",
    "<td>4 × 4 = 16</td>\n",
    "</tr>\n",
    "<tr>\n",
    "<td>2</td>\n",
    "<td>ooxx, oxox, oxxo, xoxo, xxoo, xoox</td>\n",
    "<td>6 × 6 = 36</td>\n",
    "</tr>\n",
    "<tr>\n",
    "<td>3</td>\n",
    "<td>oxxx, xoxx, xxox, xxxo</td>\n",
    "<td>4 × 4 = 16</td>\n",
    "</tr>\n",
    "<tr>\n",
    "<td>4</td>\n",
    "<td>xxxx</td>\n",
    "<td>1 × 1 = 1</td>\n",
    "</tr>\n",
    "<tr>\n",
    "<th colspan=\"2\" scope=\"row\">Total</th>\n",
    "<td>70</td>\n",
    "</tr>\n",
    "</table>\n",
    "\n",
    "What do you notice about all these combinations?\n",
    "\n",
    "## Notes on Fisher's Exact Test\n",
    "\n",
    "- Can also be applied to $r x c$ tables\n",
    "- Remember that the margins of the table are *fixed by design*\n",
    "- Also referred to as the Hypergeometric Test\n",
    "- Exact p-values are difficult (and unnecessary) for large samples\n",
    "    - `fisher.test(x, y = NULL, etc, simulate.p.value = FALSE)`\n",
    "\n",
    "## Applications of Fisher's Exact Test\n",
    "\n",
    "- Has been applied (with peril) to gene set analysis, e.g.:\n",
    "    - 10 of my top 100 genes are annotated with the cytokinesis GO term\n",
    "    - 465 of 21,000 human genes are annotated with the cytokinesis GO term\n",
    "    - Are my top 100 genes enriched for cytokinesis process?\n",
    "- Problems with this analysis:\n",
    "    - Main problem: top-n genes tend to be correlated, so their selections are not independent trials\n",
    "    - Secondary: does not match design for $H_0$\n",
    "- Alternative: permutation test repeating all steps\n",
    "\n",
    "## Chi-squared test\n",
    "\n",
    "- Test of independence for rxc table (two categorical variables)\n",
    "- Does not assume the margins are fixed by design\n",
    "    - i.e., the number of cups of tea with milk poured first can be random, and the Lady doesn't know how many\n",
    "    - more common in practice\n",
    "    - classic genomics example is GWAS\n",
    "- $H_0$: the two variables are independent\n",
    "- $H_A$: there is an association between the variables\n",
    "\n",
    "## Application to GWAS\n",
    "\n",
    "* Interested in association between disease and some potential causative factor\n",
    "* In a case-control study, the numbers of cases and controls are fixed, but the other variable is not\n",
    "* In a prospective or longitudinal cohort study, neither the number of cases or the other variable are fixed"
   ]
  },
  {
   "cell_type": "code",
   "execution_count": null,
   "metadata": {
    "attributes": {
     "classes": [],
     "echo": "FALSE",
     "id": ""
    }
   },
   "outputs": [],
   "source": [
    "disease=factor(c(rep(0,180),rep(1,20),rep(0,40),rep(1,10)),\n",
    "               labels=c(\"control\",\"cases\"))\n",
    "genotype=factor(c(rep(\"AA/Aa\",204),rep(\"aa\",46)),\n",
    "                levels=c(\"AA/Aa\",\"aa\"))\n",
    "dat <- data.frame(disease, genotype)\n",
    "dat <- dat[sample(nrow(dat)),] #shuffle them up \n",
    "summary(dat)"
   ]
  },
  {
   "cell_type": "markdown",
   "metadata": {},
   "source": [
    "## Apply the chi-squared test"
   ]
  },
  {
   "cell_type": "code",
   "execution_count": null,
   "metadata": {},
   "outputs": [],
   "source": [
    "table(disease, genotype)\n",
    "chisq.test(disease, genotype)\n",
    "chisq.test(disease, genotype, simulate.p.value = TRUE)"
   ]
  },
  {
   "cell_type": "markdown",
   "metadata": {},
   "source": [
    "## Calculate odds ratio\n",
    "\n",
    "Note that the result says nothing about *how* the departure from independence occurs"
   ]
  },
  {
   "cell_type": "code",
   "execution_count": null,
   "metadata": {},
   "outputs": [],
   "source": [
    "library(epitools)\n",
    "epitools::oddsratio(genotype, disease, method=\"wald\")$measure"
   ]
  },
  {
   "cell_type": "markdown",
   "metadata": {},
   "source": [
    "## Note on factor reference levels\n",
    "\n",
    "Use the `relevel()` function if you want to change the reference level of a factor:"
   ]
  },
  {
   "cell_type": "code",
   "execution_count": null,
   "metadata": {},
   "outputs": [],
   "source": [
    "epitools::oddsratio(relevel(genotype, \"aa\"), disease)$measure"
   ]
  },
  {
   "cell_type": "markdown",
   "metadata": {},
   "source": [
    "(the default is whichever level is first alphabetically!)\n",
    "\n",
    "## Summary - two categorical variables\n",
    "\n",
    "- Choice between Fisher's Exact Test and Chi-square test is determined by experimental design\n",
    "- If any counts in the table are less than 5, can use `simulate.p.value=TRUE` to get a more accurate p-value from the chi-square test\n",
    "- Both assume independent observations (important!!)\n",
    "- In a GWAS, correction for multiple testing is required\n",
    "\n",
    "# Resampling methods\n",
    "\n",
    "## Big classes of resampling methods\n",
    "\n",
    "* Resampling involves simulating repeated samples from the one available sample\n",
    "    - *Permutation tests*: shuffling labels to generate an empirical null distribution\n",
    "    - *Cross-validation*: generate training and test sets _without_ replacement\n",
    "    - *Bootstrap*: generate samples of size $n$, _with_ replacement\n",
    "\n",
    "## Permutation test\n",
    "\n",
    "Response (y) variable is permuted to guarantee true $H_0$:\n",
    "\n",
    "<center>\n",
    "<img src=\"https://github.com/waldronlab/AppStatBio/raw/master/Day2/nrg1521-i1.gif\" alt=\"nrg1521-i1.gif\" style=\"height: 400px;\"/>\n",
    "</center>\n",
    "\n",
    "<font size=\"2\">\n",
    "Genome-wide association studies for common diseases and complex traits. *Nature Reviews Genetics 6*, 95-108 (February 2005).\n",
    "</font>\n",
    "\n",
    "## Permutation test\n",
    "\n",
    "- Calculate the test statistic for each permutation\n",
    "    - 999 is a typical number\n",
    "- P-value is the quantile of the real test statistic in the \"empirical null distribution\" of permutation test statistics\n",
    "- Permutations tests *still have assumptions*: \n",
    "    - samples are assumed to be independent and “exchangeable”\n",
    "    - hidden structure such as families can cause anti-conservative p-values\n",
    "\n",
    "## K-fold cross-validation: setting\n",
    "\n",
    "* Setting: prediction (as opposed to inference)\n",
    "* Purpose: to avoid reporting inflated prediction accuracy due to over-fitting\n",
    "\n",
    "<center>\n",
    "<img src=\"https://github.com/waldronlab/AppStatBio/raw/master/Day2/three-fold.png\" alt=\"three-fold.png\" style=\"width: 600px;\"/>\n",
    "\n",
    "**Three-fold cross-validation**\n",
    "\n",
    "</center>\n",
    "\n",
    "## K-fold cross-validation: algorithm\n",
    "\n",
    "* Create $K$ \"folds\" from the sample of size $n$, $K \\le n$\n",
    "1. Randomly sample $1/K$ observations (without replacement) as the validation set\n",
    "2. Use remaining samples as the training set\n",
    "3. Fit model on the training set, estimate accuracy on the validation set\n",
    "4. Repeat $K$ times, not using the same validation samples\n",
    "5. Average validation accuracy from each of the validation sets\n",
    "\n",
    "## Variability in cross-validation\n",
    "\n",
    "<center>\n",
    "<img src=\"https://github.com/waldronlab/AppStatBio/raw/master/Day2/ISLR_Fig52.png\" alt=\"ISLR_Fig52.png\" style=\"width: 600px;\"/>\n",
    "\n",
    "ISLR Figure 5.2: Variability in 2-fold cross-validation\n",
    "</center>\n",
    "\n",
    "\n",
    "<font size=\"2\">\n",
    "James, Witten, Hastie, Tibshirani.  An Introduction to Statistical Learning with Applications in R. Springer, 2014. \n",
    "\n",
    "http://www-bcf.usc.edu/~gareth/ISL/\n",
    "</font>\n",
    "\n",
    "## Cross-validation summary\n",
    "\n",
    "* In prediction modeling, we think of data as _training_ or _test_\n",
    "     - cross-validation is a way to estimate test set error from a training set\n",
    "* Training set error always decreases with more complex (flexible) models\n",
    "* Test set error as a function of model flexibility tends to be U-shaped\n",
    "     - the low point of the U represents the most appropriate amount of model complexity\n",
    "\n",
    "## Summary of The Bootstrap\n",
    "\n",
    "* The Bootstrap is a very general approach to estimating uncertainty, e.g. standard errors\n",
    "* Can be applied to a wide range of models and statistics\n",
    "* Robust to outliers and violations of model assumptions\n",
    "* The basic approach:\n",
    "    1. Using the available sample (size $n$), generate a new sample of size $n$ (with replacement)\n",
    "    2. Calculate the statistic of interest\n",
    "    3. Repeat\n",
    "    4. Use repeated experiments to estimate the variability of your statistic of interest\n",
    "\n",
    "## The Bootstrap (schematic)\n",
    "\n",
    "<center>\n",
    "<img src=\"https://github.com/waldronlab/AppStatBio/raw/master/Day2/ISLR_Fig511.png\" alt=\"ISLR_Fig511.png\" style=\"width: 600px;\"/>\n",
    "</center>\n",
    "\n",
    "# Exploratory data analysis\n",
    "\n",
    "## Introduction\n",
    "\n",
    "> “The greatest value of a picture is when it forces us to notice what we never expected to see.” - John W. Tukey\n",
    "\n",
    "- Discover biases, systematic errors and unexpected variability in data\n",
    "- Graphical approach to detecting these issues\n",
    "- Represents a first step in data analysis and guides hypothesis testing\n",
    "- Opportunities for discovery in the outliers\n",
    "\n",
    "## Quantile Quantile Plots\n",
    "\n",
    "- Quantiles divide a distribution into equally sized bins\n",
    "- Division into 100 bins gives percentiles\n",
    "- Quantiles of a theoretical distribution are plotted against an experimental distribution\n",
    "    - alternatively, quantiles of two experimental distributions\n",
    "- Given a perfect fit, $x=y$\n",
    "- Useful in determining data distribution (normal, t, etc.)\n",
    "\n",
    "## Example: Quantile Quantile Plots"
   ]
  },
  {
   "cell_type": "code",
   "execution_count": null,
   "metadata": {
    "attributes": {
     "classes": [],
     "echo": "FALSE,",
     "fig.width": "8",
     "id": ""
    }
   },
   "outputs": [],
   "source": [
    "suppressPackageStartupMessages(library(UsingR))\n",
    "suppressPackageStartupMessages(library(rafalib))\n",
    "# height qq plot\n",
    "x <- father.son$fheight\n",
    "ps <- (seq(0,99) + 0.5 ) / 100\n",
    "qs <- quantile(x, ps)\n",
    "normalqs <- qnorm(ps, mean(x), popsd(x))\n",
    "par(mfrow=c(1,3))\n",
    "plot(normalqs, qs, xlab = \"Normal Percentiles\", ylab = \"Height Percentiles\", main = \"Height Q-Q Plot\")\n",
    "abline(0,1)\n",
    "# t-distributed for 12 df\n",
    "x <- rt(1000, 12)\n",
    "qqnorm(x, xlab=\"t quantiles\", main = \"T Quantiles (df=12) Q-Q Plot\", ylim=c(-6,6))\n",
    "qqline(x)\n",
    "# t-distributed for 3 df\n",
    "x <- rt(1000, 3)\n",
    "qqnorm(x, xlab=\"t quantiles\", main = \"T Quantiles (df=3) Q-Q Plot\", ylim=c(-6,6))\n",
    "qqline(x)"
   ]
  },
  {
   "cell_type": "markdown",
   "metadata": {},
   "source": [
    "## Boxplots: about\n",
    "\n",
    "- Provide a graph that is easy to interpret where data is not normally distributed\n",
    "- Would be an appropriate choice to explore income data, as distribution is highly skewed\n",
    "- Particularly informative in relation to outliers and range\n",
    "- Possible to compare multiple distributions side by side\n",
    "\n",
    "## Boxplots: example"
   ]
  },
  {
   "cell_type": "code",
   "execution_count": null,
   "metadata": {
    "attributes": {
     "classes": [],
     "echo": "FALSE,",
     "fig.height": "4",
     "fig.width": "8,",
     "id": ""
    }
   },
   "outputs": [],
   "source": [
    "par(mfrow=c(1, 3))\n",
    "hist(exec.pay, main = \"CEO Compensation\")\n",
    "qqnorm(exec.pay, main = \"CEO Compensation\")\n",
    "boxplot(exec.pay, ylab=\"10,000s of dollars\", ylim=c(0,400), main = \"CEO Compensation\")"
   ]
  },
  {
   "cell_type": "markdown",
   "metadata": {},
   "source": [
    "<center>\n",
    "Three different views of a continuous variable\n",
    "</center>"
   ]
  },
  {
   "cell_type": "markdown",
   "metadata": {},
   "source": [
    "## Scatterplots and correlation: about\n",
    "\n",
    "- For two continuous variables, scatter plot and calculation of correlation is useful\n",
    "- Provides a graphical and numeric estimation of relationships\n",
    "- Quick and easy with `plot()` and `cor()`\n",
    "\n",
    "## Scatterplots and correlation: example"
   ]
  },
  {
   "cell_type": "code",
   "execution_count": null,
   "metadata": {
    "attributes": {
     "classes": [],
     "echo": "FALSE,",
     "fig.height": "4",
     "fig.width": "8,",
     "id": ""
    }
   },
   "outputs": [],
   "source": [
    "par(mfrow=c(1,3))\n",
    "plot(father.son$fheight, father.son$sheight,xlab=\"Father's height in inches\",ylab=\"Son's height in inches\",main=paste(\"correlation =\",signif(cor(father.son$fheight, father.son$sheight),2)))\n",
    "plot(cars$speed, cars$dist,xlab=\"Speed\",ylab=\"Stopping Distance\",main=paste(\"correlation =\",signif(cor(cars$speed, cars$dist),2)))\n",
    "plot(faithful$eruptions, faithful$waiting,xlab=\"Eruption Duration\",ylab=\"Waiting Time\",main=paste(\"correlation =\",signif(cor(faithful$eruptions, faithful$waiting),2)))"
   ]
  },
  {
   "cell_type": "markdown",
   "metadata": {},
   "source": [
    "## Exploratory data analysis in high dimensions"
   ]
  },
  {
   "cell_type": "code",
   "execution_count": null,
   "metadata": {},
   "outputs": [],
   "source": [
    "library(GSE5859Subset)\n",
    "data(GSE5859Subset) ##this loads three tables\n",
    "c(class(geneExpression), class(sampleInfo))\n",
    "rbind(dim(geneExpression), dim(sampleInfo))\n",
    "head(sampleInfo)"
   ]
  },
  {
   "cell_type": "markdown",
   "metadata": {},
   "source": [
    "## Volcano plots: Setup\n",
    "\n",
    "T-test for every row (gene) of gene expression matrix:"
   ]
  },
  {
   "cell_type": "code",
   "execution_count": null,
   "metadata": {
    "attributes": {
     "classes": [],
     "id": "",
     "message": "FALSE"
    }
   },
   "outputs": [],
   "source": [
    "library(genefilter)\n",
    "g <- factor(sampleInfo$group)\n",
    "system.time(results <- rowttests(geneExpression,g))\n",
    "pvals <- results$p.value"
   ]
  },
  {
   "cell_type": "markdown",
   "metadata": {},
   "source": [
    "Note that these 8,793 tests are done in about 0.01s\n",
    "\n",
    "## Volcano plots: Example"
   ]
  },
  {
   "cell_type": "code",
   "execution_count": null,
   "metadata": {
    "attributes": {
     "classes": [],
     "fig.height": "3,",
     "fig.width": "6",
     "id": ""
    }
   },
   "outputs": [],
   "source": [
    "par(mar=c(4, 4, 0, 0))\n",
    "plot(results$dm, -log10(results$p.value),\n",
    "     xlab=\"Effect size (difference in group means)\",\n",
    "     ylab=\"- log (base 10) p-values\")\n",
    "abline(h=-log10(0.05 / nrow(geneExpression)), col=\"red\")\n",
    "legend(\"bottomright\", lty=1, col=\"red\", legend=\"Bonferroni = 0.05\")"
   ]
  },
  {
   "cell_type": "markdown",
   "metadata": {},
   "source": [
    "## Volcano plots: Summary\n",
    "\n",
    "- Many small p-values with small effect size indicate low within-group variability\n",
    "- Inspect for asymmetry\n",
    "- Can color points by significance threshold\n",
    "\n",
    "## P-value histograms: Setup\n",
    "\n",
    "- If all null hypotheses are true, expect a flat histogram of p-values:"
   ]
  },
  {
   "cell_type": "code",
   "execution_count": null,
   "metadata": {},
   "outputs": [],
   "source": [
    "m <- nrow(geneExpression)\n",
    "n <- ncol(geneExpression)\n",
    "set.seed(1); randomData <- matrix(rnorm(n*m),m,n)\n",
    "nullpvals <- rowttests(randomData,g)$p.value"
   ]
  },
  {
   "cell_type": "markdown",
   "metadata": {},
   "source": [
    "## P-value histograms: Example"
   ]
  },
  {
   "cell_type": "code",
   "execution_count": null,
   "metadata": {
    "attributes": {
     "classes": [],
     "echo": "FALSE,",
     "fig.height": "3",
     "id": ""
    }
   },
   "outputs": [],
   "source": [
    "par(mfrow=c(1, 2))\n",
    "hist(pvals,ylim=c(0,1400))\n",
    "hist(nullpvals,ylim=c(0,1400))"
   ]
  },
  {
   "cell_type": "markdown",
   "metadata": {},
   "source": [
    "## P-value histograms: Example 2 (permutation)\n",
    "\n",
    "Note that permuting these data doesn't produce an ideal null p-value histogram due to batch effects:"
   ]
  },
  {
   "cell_type": "code",
   "execution_count": null,
   "metadata": {
    "attributes": {
     "classes": [],
     "fig.height": "3",
     "id": ""
    }
   },
   "outputs": [],
   "source": [
    "permg <- sample(g)\n",
    "permresults <- rowttests(geneExpression, permg)\n",
    "hist(permresults$p.value)"
   ]
  },
  {
   "cell_type": "markdown",
   "metadata": {},
   "source": [
    "## P-value histograms: Summary\n",
    "\n",
    "- Give a quick look at how many significant p-values there may be\n",
    "- When using permuted labels, can exposes non-independence among the samples\n",
    "    + can be due to batch effects or family structure\n",
    "- Most common approaches for correcting batch effects are:\n",
    "    + `ComBat`: corrects for known batch effects by linear model, and \n",
    "    + `sva`: creates surrogate variables for unknown batch effects, corrects the structure of permutation p-values\n",
    "    + correction using control (housekeeping) genes\n",
    "\n",
    "All are available from the [sva](https://www.bioconductor.org/packages/sva) Bioconductor package\n",
    "\n",
    "## MA plot\n",
    "\n",
    "- just a scatterplot rotated 45$^o$"
   ]
  },
  {
   "cell_type": "code",
   "execution_count": null,
   "metadata": {
    "attributes": {
     "classes": [],
     "fig.height": "3",
     "id": ""
    }
   },
   "outputs": [],
   "source": [
    "rafalib::mypar(1,2)\n",
    "pseudo <- apply(geneExpression, 1, median)\n",
    "plot(geneExpression[, 1], pseudo)\n",
    "plot((geneExpression[, 1] + pseudo) / 2, (geneExpression[, 1] - pseudo))"
   ]
  },
  {
   "cell_type": "markdown",
   "metadata": {},
   "source": [
    "## MA plot: Summary\n",
    "\n",
    "- useful for quality control of high-dimensional data\n",
    "- plot all data values for a sample against another sample or a median \"pseudosample\"\n",
    "- `affyPLM::MAplots` better MA plots\n",
    "    - adds a smoothing line to highlight departures from horizontal line\n",
    "    - plots a \"cloud\" rather than many data points\n",
    "\n",
    "## Heatmaps\n",
    "\n",
    "Detailed representation of high-dimensional dataset"
   ]
  },
  {
   "cell_type": "code",
   "execution_count": null,
   "metadata": {
    "attributes": {
     "classes": [],
     "fig.height": "4",
     "id": ""
    }
   },
   "outputs": [],
   "source": [
    "ge = geneExpression[sample(1:nrow(geneExpression), 200), ]\n",
    "pheatmap::pheatmap(ge, scale=\"row\", show_colnames = F, show_rownames = F)"
   ]
  },
  {
   "cell_type": "markdown",
   "metadata": {},
   "source": [
    "## Heatmaps: Summary\n",
    "\n",
    "- Clustering becomes slow and memory-intensivefor thousands of rows\n",
    "    - probably too detailed for thousands of rows\n",
    "- can show co-expressed genes, groups of samples\n",
    "\n",
    "## Colors\n",
    "\n",
    "- Types of color pallettes: \n",
    "    - **sequential**: shows a gradient\n",
    "    - **diverging**: goes in two directions from a center\n",
    "    - **qualitative**: for categorical variables\n",
    "- Keep color blindness in mind (10% of all men)\n",
    "\n",
    "## Colors (cont'd)\n",
    "\n",
    "Combination of `RColorBrewer` package and `colorRampPalette()` can create anything you want"
   ]
  },
  {
   "cell_type": "code",
   "execution_count": null,
   "metadata": {
    "attributes": {
     "classes": [],
     "echo": "FALSE",
     "fig.height": "5,",
     "id": ""
    }
   },
   "outputs": [],
   "source": [
    "rafalib::mypar(1, 1)\n",
    "RColorBrewer::display.brewer.all(n=7)"
   ]
  },
  {
   "cell_type": "markdown",
   "metadata": {},
   "source": [
    "## Plots To Avoid\n",
    "\n",
    "> \"Pie charts are a very bad way of displaying information.\" - R Help\n",
    "\n",
    "- Always avoid pie charts\n",
    "- Avoid doughnut charts too\n",
    "- Avoid pseudo 3D and most Excel defaults\n",
    "- Effective graphs use color judiciously\n",
    "\n",
    "## Lab\n",
    "\n",
    "* [Permutation Test exercises](https://genomicsclass.github.io/book/pages/permutation_tests_exercises.html)\n",
    "* [Association Test exercises](https://genomicsclass.github.io/book/pages/association_tests_exercises.html)\n",
    "* [EDA exercises **1-3 only**](https://genomicsclass.github.io/book/pages/exploratory_data_analysis_exercises.html)\n",
    "\n",
    "## Links\n",
    "\n",
    "- A built [html][] version of this lecture is available.\n",
    "- The [source][] R Markdown is also available from Github.\n",
    "\n",
    "[html]: http://rpubs.com/lwaldron/AppStatBio2019_day2\n",
    "[source]: https://github.com/waldronlab/AppStatBio"
   ]
  }
 ],
 "metadata": {
  "kernelspec": {
   "display_name": "R",
   "language": "R",
   "name": "ir"
  },
  "language_info": {
   "codemirror_mode": "r",
   "file_extension": ".r",
   "mimetype": "text/x-r-source",
   "name": "R",
   "pygments_lexer": "r",
   "version": "3.6.1"
  },
  "toc": {
   "base_numbering": 1,
   "nav_menu": {},
   "number_sections": true,
   "sideBar": true,
   "skip_h1_title": false,
   "title_cell": "Table of Contents",
   "title_sidebar": "Contents",
   "toc_cell": false,
   "toc_position": {},
   "toc_section_display": true,
   "toc_window_display": false
  }
 },
 "nbformat": 4,
 "nbformat_minor": 1
}
