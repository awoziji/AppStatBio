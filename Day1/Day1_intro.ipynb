{
 "cells": [
  {
   "cell_type": "markdown",
   "metadata": {},
   "source": [
    "# Front matter\n",
    "\n",
    "## Welcome\n",
    "\n",
    "My research interests:\n",
    "\n",
    "* High-dimensional statistics (more variables than observations)\n",
    "* Predictive modeling and methodology for validation\n",
    "* Metagenomic profiling of the human microbiome\n",
    "* Multi-omic data analysis for cancer\n",
    "* http://www.waldronlab.io"
   ]
  },
  {
   "cell_type": "markdown",
   "metadata": {},
   "source": [
    "## The textbook\n",
    "\n",
    "* [Biomedical Data Science](book) by Irizarry and Love ([ePub version] on Leanpub)\n",
    "* [Source repository](https://github.com/genomicsclass/labs)\n",
    "\n",
    "![Biomedical Data Science book cover](https://d2sofvawe08yqg.cloudfront.net/dataanalysisforthelifesciences/hero2x?1549465432)\n",
    "\n",
    "## Day 1 outline\n",
    "\n",
    "- RStudio vs Jupyter Notebooks\n",
    "- Random variables and distributions\n",
    "- Hypothesis testing for one or two samples (t-test, Wilcoxon test, etc)\n",
    "- Hypothesis testing for categorical variables (Fisher's Test, Chi-square test)\n",
    "- Some essential R classes and related Bioconductor classes\n",
    "- Introduction to `dplyr`\n",
    "    \n",
    "- [Book](book) chapters 0 and 1\n",
    "\n",
    "## Learning objectives\n",
    "\n",
    "- Perform basic data manipulation/exploration in R and dplyr\n",
    "- Identify key R and Bioconductor data classes\n",
    "- Define random variables and distinguish them from non-random ones\n",
    "- Distinguish population from sampling distributions\n",
    "- Interpret t-tests and confidence intervals\n",
    "- Identify when to use Fisher's Exact Test and Chi-square Test"
   ]
  },
  {
   "cell_type": "code",
   "execution_count": null,
   "metadata": {},
   "outputs": [],
   "source": [
    "installOrLoad <- function(pkgs){\n",
    "    for (pkg in pkgs){\n",
    "        if(!require(pkg, character.only=TRUE)){\n",
    "            BiocManager::install(pkg)\n",
    "            require(pkg, character.only=TRUE)\n",
    "        }\n",
    "    }\n",
    "}\n",
    "installOrLoad(c(\"S4Vectors\", \"IRanges\", \"nycflights13\", \"dplyr\", \"TeachingDemos\", \"epitools\"))"
   ]
  },
  {
   "cell_type": "markdown",
   "metadata": {},
   "source": [
    "# Random Variables and Distributions\n",
    "\n",
    "## Random Variables\n",
    "\n",
    "- **A random variable**: any characteristic that can be measured or categorized, and where any particular outcome is determined at least partially by chance.\n",
    "\n",
    "- Examples:\n",
    "    - number of new diabetes cases in population in a given year\n",
    "    - The weight of a randomly selected individual in a population\n",
    "\n",
    "- Types:\n",
    "    - Categorical random variable (e.g. disease / healthy)\n",
    "    - Discrete random variable (e.g. sequence read counts)\n",
    "    - Continuous random variable (e.g. normalized qPCR intensity)"
   ]
  },
  {
   "cell_type": "markdown",
   "metadata": {},
   "source": [
    "## Random Variables - examples\n",
    "\n",
    "Normally distributed random variable with mean $\\mu = 0$ / standard deviation $\\sigma = 1$, and a sample of $n=100$"
   ]
  },
  {
   "cell_type": "code",
   "execution_count": null,
   "metadata": {
    "attributes": {
     "classes": [],
     "echo": "FALSE",
     "id": ""
    }
   },
   "outputs": [],
   "source": [
    "x = rnorm(100)\n",
    "res = hist(x, main = \"Standard Normal Distribution\\n mean 0, std. dev. 1\", prob =\n",
    "               TRUE)\n",
    "xdens = seq(min(res$breaks), max(res$breaks), by = 0.01)\n",
    "lines(xdens, dnorm(xdens))"
   ]
  },
  {
   "cell_type": "markdown",
   "metadata": {},
   "source": [
    "## Random Variables - examples\n",
    "\n",
    "Poisson distributed random variable ($\\lambda = 2$), and a sample of $n=100$."
   ]
  },
  {
   "cell_type": "code",
   "execution_count": null,
   "metadata": {
    "attributes": {
     "classes": [],
     "echo": "FALSE",
     "id": ""
    }
   },
   "outputs": [],
   "source": [
    "x = rpois(100, lambda = 2)\n",
    "res = hist(\n",
    "    x,\n",
    "    main = \"Poisson Distribution\",\n",
    "    prob = FALSE,\n",
    "    col = \"lightgrey\",\n",
    "    breaks = seq(-0.5, round(max(x)) + 0.5, by = 0.5)\n",
    ")\n",
    "xdens = seq(min(x), max(x), by = 1)\n",
    "lines(xdens, length(x) * dpois(xdens, lambda = 2), lw = 2)"
   ]
  },
  {
   "cell_type": "markdown",
   "metadata": {},
   "source": [
    "## Random Variables - examples\n",
    "\n",
    "Negative Binomially distributed random variable ($size=30, \\mu=2$), and a sample of $n=100$."
   ]
  },
  {
   "cell_type": "code",
   "execution_count": null,
   "metadata": {
    "attributes": {
     "classes": [],
     "echo": "FALSE",
     "id": ""
    }
   },
   "outputs": [],
   "source": [
    "x = rnbinom(100, size = 30, mu = 2)\n",
    "res = hist(\n",
    "    x,\n",
    "    main = \"Negative Binomial Distribution\",\n",
    "    prob = FALSE,\n",
    "    col = \"lightgrey\",\n",
    "    breaks = seq(-0.5, round(max(x)) + 0.5, by = 0.5)\n",
    ")\n",
    "xdens = seq(min(x), max(x), by = 1)\n",
    "lines(xdens, length(x) * dnbinom(xdens, size = 30, mu = 2), lw = 2)"
   ]
  },
  {
   "cell_type": "markdown",
   "metadata": {},
   "source": [
    "## Random Variables - examples\n",
    "\n",
    "- Binomial Distribution random variable ($size=20, prob=0.25$), and a sample of $n=100$.\n",
    "    - use for binary outcomes"
   ]
  },
  {
   "cell_type": "code",
   "execution_count": null,
   "metadata": {
    "attributes": {
     "classes": [],
     "echo": "FALSE",
     "id": ""
    }
   },
   "outputs": [],
   "source": [
    "x = rbinom(100, size = 20, prob = 0.25)\n",
    "res = hist(\n",
    "    x,\n",
    "    main = \"Binomial Distribution\",\n",
    "    prob = FALSE,\n",
    "    col = \"lightgrey\",\n",
    "    breaks = seq(-0.5, round(max(x)) + 0.5, by = 0.5)\n",
    ")\n",
    "xdens = seq(min(x), max(x), by = 1)\n",
    "lines(xdens, length(x) * dbinom(xdens, size = 20, prob = 0.25), lw = 2)"
   ]
  },
  {
   "cell_type": "markdown",
   "metadata": {},
   "source": [
    "# Hypothesis Testing\n",
    "\n",
    "## Why hypothesis testing?\n",
    "\n",
    "- Allows yes/no statements, e.g. whether:\n",
    "    - a population mean has a hypothesized value, or\n",
    "    - an intervention causes a measurable effect relative to a control group\n",
    "\n",
    "- Example questions with yes/no answers:\n",
    "    - Is a gene differentially expressed between two populations?\n",
    "    - Do hypertensive, smoking men have the same mean cholesterol level as the general population?\n",
    "\n",
    "- Hypothesis testing is not the only framework for inferential statistics, e.g.:\n",
    "    - confidence intervals\n",
    "    - posterior probabilities (Bayesian statistics)\n",
    "    - read [p-values are just the tip of the iceberg](http://www.nature.com/news/statistics-p-values-are-just-the-tip-of-the-iceberg-1.17412)\n",
    "\n",
    "## Logic of hypothesis testing\n",
    "\n",
    "* Hypotheses are made about *populations* based on inference from *samples*\n",
    "* We make inference from *samples* because we usually cannot observe the entire population\n",
    "\n",
    "<center>\n",
    "![Sample vs Population](https://keydifferences.com/wp-content/uploads/2016/06/population-vs-sample2.jpg)\n",
    "</center>\n",
    "\n",
    "## One and two-sample hypothesis tests of mean\n",
    "\n",
    "**One-sample hypothesis test of mean** - sample comes from one of two population distributions:\n",
    "\n",
    "1. usual distribution that has been true in the past\n",
    "    - $H_0: \\mu = \\mu_0$ (null hypothesis)\n",
    "2. a potentially new distribution induced by an intervention or changing condition\n",
    "    - $H_A: \\mu \\neq \\mu_0$ (alternative hypothesis)\n",
    "\n",
    "**Two-sample hypothesis test of means** - two samples are drawn, either:\n",
    "\n",
    "1. from a single population\n",
    "    - $H_0: \\mu_1 = \\mu_2$ (null hypothesis)\n",
    "2. from two different populations\n",
    "    - $H_A: \\mu_1 \\neq \\mu_2$ (alternative hypothesis)\n",
    "\n",
    "## Population vs sampling distributions\n",
    "\n",
    "- Population distributions\n",
    "    + Each realization / point is an individual\n",
    "    \n",
    "- Sampling distributions\n",
    "    + Each realization / point is a sample\n",
    "    + distribution depends on sample size\n",
    "    + large sample distributions are given by the Central Limit Theorem\n",
    "\n",
    "- **Hypothesis testing is about sampling distributions**\n",
    "    + Did my sample likely come from that distribution?\n",
    "\n",
    "## Note about the Central Limit Theorem\n",
    "\n",
    "When sample size is large, the average $\\bar{Y}$ of a random sample:\n",
    " 1. Follows a normal distribution\n",
    " 2. The normal distribution has mean entered at the population average $\\mu_Y$ \n",
    " 3. with standard deviation equal to the population standard deviation $\\sigma_Y$, divided by the square root of the sample size $N$. We refer to the standard deviation of the distribution of a random variable as the random variable's _standard error_.\n",
    "\n",
    "Thanks to CLT, linear modeling, t-tests, ANOVA are all guaranteed to work reasonably well for large samples (more than ~30 observations).\n",
    "\n",
    "Go to online demo: http://onlinestatbook.com/stat_sim/sampling_dist/\n",
    "\n",
    "## Example applications of hypothesis tests for continuous variables\n",
    "\n",
    "1. Do study participants on a diet lose weight compared to a control group?\n",
    "2. Does a gene knockout result in less viable cell colonies, as measured by the number of living cells in replicate experiments?\n",
    "3. Is *Prevotella copri* more abundant in the guts of vegans than of meat-eaters?\n",
    "4. Do infants born in this region have a higher birthweight than the national average?\n",
    "\n",
    "These are research hypotheses. What are the corresponding *null hypotheses*?\n",
    "\n",
    "## The z-tests\n",
    "\n",
    "- \"$z$\" refers to the **Standard Normal Distribution**: $N(\\mu=0, \\sigma=1)$\n",
    "- In a one-sample test, only a single sample is drawn:\n",
    "    - $H_0: \\mu = \\mu_0$\n",
    "- In a two-sample test, two samples are drawn *independently*:\n",
    "    - $H_0: \\mu_1 = \\mu_2$\n",
    "- A paired test is one sample of paired measurements, e.g.:\n",
    "    - pain level in individuals before and after treatment\n",
    "       + $H_0: \\mu_{before} = \\mu_{after}$\n",
    "    - microbial abundance in upper and lower intestines in same individuals\n",
    "       + $H_0: \\mu_{upper} = \\mu_{lower}$\n",
    "\n",
    "## When to use z-tests\n",
    "\n",
    "* $\\frac{{}\\bar{x} - \\mu}{\\sigma}$ and $\\frac{\\bar{x_1} - \\bar{x_2}}{\\sigma}$\n",
    "are z-distributed *if*:\n",
    "    - **the standard deviation $\\sigma$ for the population is known in advance**\n",
    "    - the population values are normally distributed\n",
    "    - the population values are slightly skewed but n > 15\n",
    "    - the population values are quite skewed but n > 30\n",
    "\n",
    "## Example of one-sample z-test"
   ]
  },
  {
   "cell_type": "code",
   "execution_count": null,
   "metadata": {},
   "outputs": [],
   "source": [
    "library(TeachingDemos)\n",
    "set.seed(1)\n",
    "(weights = rnorm(10, mean = 75, sd = 10))\n",
    "TeachingDemos::z.test(\n",
    "    x = weights,\n",
    "    mu = 70,  #specified for population under H0 because this is a one-sample test\n",
    "    stdev = 10, #specified for population because this is a z-test\n",
    "    alternative = \"two.sided\"\n",
    ")"
   ]
  },
  {
   "cell_type": "markdown",
   "metadata": {},
   "source": [
    "## The t-tests\n",
    "\n",
    "- The t-tests are for small samples and do _not_ rely on the Central Limit Theorem\n",
    "- In a one-sample test, only a single sample is drawn:\n",
    "    - $H_0: \\mu = \\mu_0$\n",
    "- In a two-sample test, two samples are drawn *independently*:\n",
    "    - $H_0: \\mu_1 = \\mu_2$\n",
    "- A paired test is one sample of paired measurements, e.g.:\n",
    "    - individuals before and after treatment\n",
    "\n",
    "## When to use t-tests\n",
    "\n",
    "* $\\frac{{}\\bar{x} - \\mu}{s}$ and $\\frac{\\bar{x_1} - \\bar{x_2}}{s}$\n",
    "are t-distributed *if*:\n",
    "    - **the standard deviation $s$ is estimated from the sample**\n",
    "    - the population values are normally distributed\n",
    "    - the population values are slightly skewed but n > 15\n",
    "    - the population values are quite skewed but n > 30\n",
    "\n",
    "* Wilcoxon tests are an alternative for non-normal populations\n",
    "    - e.g. rank data\n",
    "    - data where ranks are more informative than means\n",
    "    - *not* when many ranks are arbitrary\n",
    "\n",
    "## Example of one-sample t-test\n",
    "\n",
    "Note that here we do not specify the standard deviation, because it is estimated from the sample."
   ]
  },
  {
   "cell_type": "code",
   "execution_count": null,
   "metadata": {},
   "outputs": [],
   "source": [
    "stats::t.test(\n",
    "    x = weights,\n",
    "    mu = 70,  #specified for population under H0 because this is a one-sample test\n",
    "    alternative = \"two.sided\"\n",
    ")"
   ]
  },
  {
   "cell_type": "markdown",
   "metadata": {},
   "source": [
    "In this particular example the p-value is smaller than from the *z-test*, but in general it would be **less powerful** than a *z-test* if its assumptions are met.\n",
    "\n",
    "# Confidence intervals\n",
    "\n",
    "## Why confidence intervals?\n",
    "\n",
    "- The above procedures produced both p-values and confidence intervals\n",
    "- p-values are useful only for deciding whether to reject $H_0$\n",
    "- p-values do not report effect size (observed difference).\n",
    "- p-values only indicate statistical significance which does not guarantee scientific/clinical significance.\n",
    "\n",
    "Confidence intervals provide a **probable range for the true population mean**."
   ]
  },
  {
   "cell_type": "code",
   "execution_count": null,
   "metadata": {},
   "outputs": [],
   "source": [
    "set.seed(1)\n",
    "reps <- 100\n",
    "N <- 30\n",
    "alpha <- 0.05\n",
    "my.conf.ints <- replicate(reps, t.test(rnorm(N), conf.level = 1-alpha)$conf.int)\n",
    "plot(x = rep(range(my.conf.ints), reps / 2),\n",
    "     y = 1:reps,\n",
    "     main = paste(reps, \"samples of size N=\", N),\n",
    "     type = \"n\")\n",
    "abline(v = 0, lw = 2, lty = 3)\n",
    "for (i in seq(1, reps)) {\n",
    "    acceptH0 <- my.conf.ints[1, i] < 0 & my.conf.ints[2, i] > 0\n",
    "    segments(\n",
    "        x0 = my.conf.ints[1, i],\n",
    "        y0 = i,\n",
    "        x1 = my.conf.ints[2, i],\n",
    "        y1 = i,\n",
    "        lw = ifelse(acceptH0, 1, 2),\n",
    "        col = ifelse(acceptH0, \"black\", \"red\")\n",
    "    )\n",
    "}"
   ]
  },
  {
   "cell_type": "markdown",
   "metadata": {},
   "source": [
    "## Intervals for any confidence level\n",
    "\n",
    "- If the sampling distribution is normal with standard error $SE$, then a confidence interval for the population mean is:\n",
    "    - $\\bar{X} \\pm 1.96 \\times SE$ (95% CI, normal sampling distribution)\n",
    "    - $\\bar{X} \\pm z_{\\alpha / 2}^{crit} \\times SE$ (normal sampling distribution)\n",
    "    - $\\bar{X} \\pm t_{\\alpha / 2, df}^{crit} \\times SE$ (t sampling distribution)\n",
    "- The part after the $\\pm$ is called the _margin of error_\n",
    "\n",
    "## Confidence intervals vs. hypothesis testing\n",
    "\n",
    "- Confidence intervals can be used for hypothesis testing\n",
    "    - reject $H_0$ if the \"null value\" is not contained in the CI\n",
    "- Do **not** use overlap between two CIs for hypothesis test\n",
    "    - for a two sample hypothesis test $H_0: \\mu_1 = \\mu_2$, must construct a single confidence interval for $\\mu_1 - \\mu_2$\n",
    "\n",
    "## Q & A: confidence intervals\n",
    "\n",
    "Which of the following are true?\n",
    "\n",
    "- The 95% CI contains 95% of the values in the population\n",
    "- The 95% CI will contain the population mean, 19 times out of 20\n",
    "- The 95% CI is 95% probable to contain the population mean\n",
    "- The 99% CI will be wider than the 95% CI\n",
    "\n",
    "\n",
    "# Hypothesis testing for categorical variables\n",
    "\n",
    "## Lady Tasting Tea\n",
    "\n",
    "- The Lady in question claimed to be able to tell whether the tea or the milk was added first to a cup\n",
    "- Fisher proposed to give her eight cups, four of each variety, in random order\n",
    "    - the Lady is **fully informed** of the experimental method\n",
    "    - $H_0$: the Lady has no ability to tell which was added first\n",
    "\n",
    "<center>\n",
    "<img src=\"https://upload.wikimedia.org/wikipedia/commons/thumb/3/37/Nice_Cup_of_Tea.jpg/330px-Nice_Cup_of_Tea.jpg\" alt=\"Lady tasting tea\" align=\"middle\" style=\"height: 200px;\">\n",
    "</center>\n",
    "\n",
    "Source: https://en.wikipedia.org/wiki/Lady_tasting_tea\n",
    "\n",
    "## Fisher's Exact Test\n",
    "\n",
    "p-value is the probability of the observed number of successes, or more, under $H_0$\n",
    "\n",
    "<table>\n",
    "<caption>Tea-Tasting Distribution</caption>\n",
    "<tr>\n",
    "<th scope=\"col\">Success count</th>\n",
    "<th scope=\"col\">Permutations of selection</th>\n",
    "<th scope=\"col\">Number of permutations</th>\n",
    "</tr>\n",
    "<tr>\n",
    "<td>0</td>\n",
    "<td>oooo</td>\n",
    "<td>1 × 1 = 1</td>\n",
    "</tr>\n",
    "<tr>\n",
    "<td>1</td>\n",
    "<td>ooox, ooxo, oxoo, xooo</td>\n",
    "<td>4 × 4 = 16</td>\n",
    "</tr>\n",
    "<tr>\n",
    "<td>2</td>\n",
    "<td>ooxx, oxox, oxxo, xoxo, xxoo, xoox</td>\n",
    "<td>6 × 6 = 36</td>\n",
    "</tr>\n",
    "<tr>\n",
    "<td>3</td>\n",
    "<td>oxxx, xoxx, xxox, xxxo</td>\n",
    "<td>4 × 4 = 16</td>\n",
    "</tr>\n",
    "<tr>\n",
    "<td>4</td>\n",
    "<td>xxxx</td>\n",
    "<td>1 × 1 = 1</td>\n",
    "</tr>\n",
    "<tr>\n",
    "<th colspan=\"2\" scope=\"row\">Total</th>\n",
    "<td>70</td>\n",
    "</tr>\n",
    "</table>\n",
    "\n",
    "What do you notice about all these combinations?\n",
    "\n",
    "## Notes on Fisher's Exact Test\n",
    "\n",
    "- Can also be applied to rxc tables\n",
    "- Remember that the margins of the table are *fixed by design*\n",
    "- Also referred to as the Hypergeometric Test\n",
    "- Exact p-values are difficult (and unnecessary) for large samples\n",
    "    - `fisher.test(x, y = NULL, etc, simulate.p.value = FALSE)`\n",
    "\n",
    "## Notes on Fisher's Exact Test (cont'd)\n",
    "\n",
    "- Has been applied (**with peril!**) to gene set analysis, e.g.:\n",
    "    - 10 of my top 100 genes are annotated with the cytokinesis GO term\n",
    "    - 465 of 21,000 human genes are annotated with the cytokinesis GO term\n",
    "    - Are my top 100 genes enriched for cytokinesis process?\n",
    "- Problems with this analysis:\n",
    "    - Main problem: top-n genes tend to be correlated, so their selections are not independent trials\n",
    "    - Secondary: does not match design for $H_0$\n",
    "- Alternative: permutation test repeating all steps\n",
    "\n",
    "## Chi-squared test\n",
    "\n",
    "- Test of independence for rxc table (two categorical variables)\n",
    "- Does not assume the margins are fixed by design\n",
    "    - i.e., the number of cups of tea with milk poured first can be random, and the Lady doesn't know how many\n",
    "    - more common in practice\n",
    "    - classic genomics example is GWAS\n",
    "- $H_0$: the two variables are independent\n",
    "- $H_A$: there is an association between the variables\n",
    "\n",
    "## Application to GWAS\n",
    "\n",
    "* Interested in association between disease and some potential causative factor\n",
    "* In a case-control study, the numbers of cases and controls are fixed, but the other variable is not\n",
    "* In a prospective or longitudinal cohort study, neither the number of cases or the other variable are fixed"
   ]
  },
  {
   "cell_type": "code",
   "execution_count": null,
   "metadata": {
    "attributes": {
     "classes": [],
     "echo": "TRUE",
     "id": ""
    }
   },
   "outputs": [],
   "source": [
    "disease = factor(c(rep(0, 180), rep(1, 20), rep(0, 40), rep(1, 10)),\n",
    "                 labels = c(\"control\", \"cases\"))\n",
    "genotype = factor(c(rep(\"AA/Aa\", 204), rep(\"aa\", 46)),\n",
    "                  levels = c(\"AA/Aa\", \"aa\"))\n",
    "set.seed(1)\n",
    "genotype <- sample(genotype)\n",
    "dat <- data.frame(disease, genotype)\n",
    "summary(dat)"
   ]
  },
  {
   "cell_type": "markdown",
   "metadata": {},
   "source": [
    "## Application to GWAS (cont'd)"
   ]
  },
  {
   "cell_type": "code",
   "execution_count": null,
   "metadata": {},
   "outputs": [],
   "source": [
    "table(disease, genotype)\n",
    "chisq.test(disease, genotype)\n",
    "chisq.test(disease, genotype, simulate.p.value = TRUE)"
   ]
  },
  {
   "cell_type": "markdown",
   "metadata": {},
   "source": [
    "## Application to GWAS (cont'd)\n",
    "\n",
    "Note that the result says nothing about *how* the departure from independence occurs"
   ]
  },
  {
   "cell_type": "code",
   "execution_count": null,
   "metadata": {},
   "outputs": [],
   "source": [
    "library(epitools)\n",
    "epitools::oddsratio(genotype, disease, method = \"wald\")$measure"
   ]
  },
  {
   "cell_type": "markdown",
   "metadata": {},
   "source": [
    "(the default is whichever level is first alphabetically!)\n",
    "\n",
    "## Summary - two categorical variables\n",
    "\n",
    "- Choice between Fisher's Exact Test and Chi-square test is determined by experimental design\n",
    "- If any counts in the table are less than 5, can use `simulate.p.value=TRUE` to get a more accurate p-value from the chi-square test\n",
    "- Both assume independent observations (important!!)\n",
    "- In a GWAS, correction for multiple testing is required\n",
    "- Can also use logistic regression for two categorical variables\n",
    "\n",
    "# Summary - hypothesis testing\n",
    "\n",
    "## Power and type I and II error\n",
    "\n",
    "| True state of nature | Result of test             |                                                 |\n",
    "|----------------------|----------------------------|-------------------------------------------------|\n",
    "|                      | **Reject $H_0$**                                      | **Fail to reject $H_0$**                                 |\n",
    "| $H_0$ TRUE           | Type I error, probability = $\\alpha$ | No error, probability = $1-\\alpha$                     |\n",
    "| $H_0$ FALSE          | No error, probability is called power = $1-\\beta$    | Type II error, probability = $\\beta$ (false negative) |\n",
    "\n",
    "## Use and mis-use of the p-value\n",
    "\n",
    "- The p-value is the probability of observing a sample statistic _as or more extreme_ as you did, _assuming that $H_0$ is true_\n",
    "- The p-value is a **random variable**:\n",
    "    - **don't** treat it as precise.\n",
    "    - **don't** do silly things like try to interpret differences or ratios between p-values\n",
    "    - **don't** lose track of test assumptions such as independence of observations\n",
    "    - **do** use a moderate p-value cutoff, then use some effect size measure for ranking\n",
    "- Small p-values are particularly:\n",
    "    - variable under repeated sampling, and\n",
    "    - sensitive to test assumptions\n",
    "\n",
    "## Use and mis-use of the p-value (cont'd)\n",
    "\n",
    "- If we fail to reject $H_0$, is the probability that $H_0$ is true equal to ($1-\\alpha$)?  (Hint: NO NO NO!)\n",
    "    - Failing to reject $H_0$ does not mean $H_0$ is true\n",
    "    - \"No evidence of difference $\\neq$ evidence of no difference\"\n",
    "- Statistical significance vs. practical significance\n",
    "    - As sample size increases, point estimates such as the mean are more precise\n",
    "    - With large sample size, small differences in means may be statistically significant but not practically significant\n",
    "- Although $\\alpha = 0.05$ is a common cut-off for the p-value, there is no set border between \"significant\" and \"insignificant,\" only increasingly strong evidence against $H_0$ (in favor of $H_A$) as the p-value gets smaller.\n",
    "\n",
    "# R - basic usage\n",
    "\n",
    "## Tips for learning R\n",
    "\n",
    "Pseudo code                                   |   Example code\n",
    "--------------------------------------------  |   -------------------\n",
    "library(packagename)                          | library(dplyr)\n",
    "?functionname                                 | ?select\n",
    "?package::functionname                        | ?dplyr::select\n",
    "? 'Reserved keyword or symbol' \\color{blue}{(or backticks)} | ? '%>%'\n",
    "??searchforpossiblyexistingfunctionandortopic | ??simulate\n",
    "help(package = \"loadedpackage\")               | help(\"dplyr\")\n",
    "browseVignettes(\"packagename\")                | browseVignettes(\"dplyr\")\n",
    "\n",
    "**Table credit: Marcel Ramos**\n",
    "\n",
    "## Installing Packages the Bioconductor Way\n",
    "\n",
    "- See the [Bioconductor](http://www.bioconductor.org/install) site for more info\n",
    "\n",
    "Pseudo code:\n",
    "```\n",
    "install.packages(\"BiocManager\") #from CRAN\n",
    "packages <- c(\"packagename\", \"githubuser/repository\", \"biopackage\")\n",
    "BiocManager::install(packages)\n",
    "BiocManager::valid()  #check validity of installed packages\n",
    "```\n",
    "- Works for CRAN, GitHub, and Bioconductor packages!"
   ]
  },
  {
   "cell_type": "markdown",
   "metadata": {},
   "source": [
    "\n",
    "## Note about installing `devtools`\n",
    "\n",
    "- Useful for building packages\n",
    "- Download and install from GitHub, directly or via `BiocManager::install()`\n",
    "- Installation dependent on OS ([Rtools](https://cran.r-project.org/bin/windows/Rtools/) for Windows, [OSX installation](http://johnmuschelli.com/neuroc/installing_devtools/index.html) requires XCode and Command Line Tools, GNU/Linux \"just works\")\n",
    "\n",
    "# Introduction to the R language\n",
    "\n",
    "## Base R Data Types: atomic vectors\n",
    "\n",
    "`numeric` (set seed to sync random number generator):"
   ]
  },
  {
   "cell_type": "code",
   "execution_count": null,
   "metadata": {},
   "outputs": [],
   "source": [
    "set.seed(1)\n",
    "rnorm(5)"
   ]
  },
  {
   "cell_type": "markdown",
   "metadata": {},
   "source": [
    "`integer`:"
   ]
  },
  {
   "cell_type": "code",
   "execution_count": null,
   "metadata": {},
   "outputs": [],
   "source": [
    "sample(1L:5L)"
   ]
  },
  {
   "cell_type": "markdown",
   "metadata": {},
   "source": [
    "`logical`:"
   ]
  },
  {
   "cell_type": "code",
   "execution_count": null,
   "metadata": {},
   "outputs": [],
   "source": [
    "1:3 %in% 3"
   ]
  },
  {
   "cell_type": "markdown",
   "metadata": {},
   "source": [
    "`character`:"
   ]
  },
  {
   "cell_type": "code",
   "execution_count": null,
   "metadata": {},
   "outputs": [],
   "source": [
    "c(\"yes\", \"no\")"
   ]
  },
  {
   "cell_type": "markdown",
   "metadata": {},
   "source": [
    "`factor`:"
   ]
  },
  {
   "cell_type": "code",
   "execution_count": null,
   "metadata": {},
   "outputs": [],
   "source": [
    "factor(c(\"yes\", \"no\"))"
   ]
  },
  {
   "cell_type": "markdown",
   "metadata": {},
   "source": [
    "Demo: integer-like properties, `relevel()`\n",
    "\n",
    "## Base R Data Types: missingness\n",
    "\n",
    "- Missing Values and others - **IMPORTANT**"
   ]
  },
  {
   "cell_type": "code",
   "execution_count": null,
   "metadata": {},
   "outputs": [],
   "source": [
    "c(NA, NaN, -Inf, Inf)"
   ]
  },
  {
   "cell_type": "markdown",
   "metadata": {},
   "source": [
    "`class()` to find the class of a variable.\n",
    "\n",
    "## Base R Data Types: matrix, list, data.frame\n",
    "\n",
    "`matrix`:"
   ]
  },
  {
   "cell_type": "code",
   "execution_count": null,
   "metadata": {},
   "outputs": [],
   "source": [
    "matrix(1:9, nrow = 3)"
   ]
  },
  {
   "cell_type": "markdown",
   "metadata": {},
   "source": [
    "The `list` is a non-atomic vector:"
   ]
  },
  {
   "cell_type": "code",
   "execution_count": null,
   "metadata": {},
   "outputs": [],
   "source": [
    "measurements <- c(1.3, 1.6, 3.2, 9.8, 10.2)\n",
    "parents <- c(\"Parent1.name\", \"Parent2.name\")\n",
    "my.list <- list(measurements, parents)\n",
    "my.list"
   ]
  },
  {
   "cell_type": "markdown",
   "metadata": {},
   "source": [
    "The `data.frame` has list-like and matrix-like properties:"
   ]
  },
  {
   "cell_type": "code",
   "execution_count": null,
   "metadata": {},
   "outputs": [],
   "source": [
    "x <- 11:16\n",
    "y <- seq(0, 1, .2)\n",
    "z <- c(\"one\", \"two\", \"three\", \"four\", \"five\", \"six\")\n",
    "a <- factor(z)\n",
    "my.df <- data.frame(x, y, z, a, stringsAsFactors = FALSE)"
   ]
  },
  {
   "cell_type": "markdown",
   "metadata": {},
   "source": [
    "## Bioconductor S4 vectors: DataFrame\n",
    "\n",
    "- Bioconductor (www.bioconductor.org) defines its own set of vectors using the S4 formal class system\n",
    "`DataFrame`: like a `data.frame` but more flexible. columns can be any atomic vector type:\n",
    "    - `GenomicRanges` objects\n",
    "    - `Rle` (run-length encoding)"
   ]
  },
  {
   "cell_type": "code",
   "execution_count": null,
   "metadata": {},
   "outputs": [],
   "source": [
    "suppressPackageStartupMessages(library(S4Vectors))\n",
    "df <- DataFrame(var1 = Rle(c(\"a\", \"a\", \"b\")),\n",
    "                var2 = 1:3)\n",
    "metadata(df) <- list(father = \"Levi is my father\")\n",
    "df"
   ]
  },
  {
   "cell_type": "markdown",
   "metadata": {},
   "source": [
    "## Bioconductor S4 vectors: List and derived classes"
   ]
  },
  {
   "cell_type": "code",
   "execution_count": null,
   "metadata": {},
   "outputs": [],
   "source": [
    "List(my.list)\n",
    "str(List(my.list))"
   ]
  },
  {
   "cell_type": "code",
   "execution_count": null,
   "metadata": {},
   "outputs": [],
   "source": [
    "suppressPackageStartupMessages(library(IRanges))\n",
    "IntegerList(var1 = 1:26, var2 = 1:100)\n",
    "CharacterList(var1 = letters[1:100], var2 = LETTERS[1:26])\n",
    "LogicalList(var1 = 1:100 %in% 5, var2 = 1:100 %% 2)"
   ]
  },
  {
   "cell_type": "markdown",
   "metadata": {},
   "source": [
    "## Bioconductor S4 vectors: Biostrings"
   ]
  },
  {
   "cell_type": "code",
   "execution_count": null,
   "metadata": {},
   "outputs": [],
   "source": [
    "suppressPackageStartupMessages(library(Biostrings))\n",
    "bstring = BString(\"I am a BString object\")\n",
    "bstring"
   ]
  },
  {
   "cell_type": "code",
   "execution_count": null,
   "metadata": {},
   "outputs": [],
   "source": [
    "dnastring = DNAString(\"TTGAAA-CTC-N\")\n",
    "dnastring\n",
    "str(dnastring)"
   ]
  },
  {
   "cell_type": "code",
   "execution_count": null,
   "metadata": {},
   "outputs": [],
   "source": [
    "alphabetFrequency(dnastring, baseOnly=TRUE, as.prob=TRUE)"
   ]
  },
  {
   "cell_type": "markdown",
   "metadata": {},
   "source": [
    "# dplyr\n",
    "\n",
    "## Data Manipulation using `dplyr`\n",
    "\n",
    "* `dplyr` convention aims to ease cognitive burden\n",
    "* Function names are easy to remember:\n",
    "1. select (Y)\n",
    "2. mutate/transmute (add Ys / new Y)\n",
    "3. filter (get Xs based on condition)\n",
    "4. slice (get Xs specified)\n",
    "5. summarise (reduce to single observation) \n",
    "6. arrange (re-order observations)\n",
    "\n",
    "## `dplyr` example"
   ]
  },
  {
   "cell_type": "code",
   "execution_count": null,
   "metadata": {
    "attributes": {
     "classes": [],
     "id": "",
     "message": "FALSE"
    }
   },
   "outputs": [],
   "source": [
    "library(nycflights13)\n",
    "library(dplyr)\n",
    "delays <- flights %>%\n",
    "    filter(!is.na(dep_delay)) %>%\n",
    "    group_by(year, month, day, hour) %>%\n",
    "    summarise(delay = mean(dep_delay), n = n()) %>%\n",
    "    filter(n > 10)\n",
    "## dplyr cheatsheet\n",
    "## ggplot2 cheatsheet"
   ]
  },
  {
   "cell_type": "markdown",
   "metadata": {},
   "source": [
    "## `dplyr` example (cont'd)"
   ]
  },
  {
   "cell_type": "code",
   "execution_count": null,
   "metadata": {},
   "outputs": [],
   "source": [
    "hist(delays$delay, main = \"Mean hourly delay\", xlab = \"Delay (minutes)\")"
   ]
  },
  {
   "cell_type": "markdown",
   "metadata": {},
   "source": [
    "# Lab Exercises\n",
    "\n",
    "1. [dplyr exercises](http://genomicsclass.github.io/book/pages/dplyr_intro_exercises.html)\n",
    "2. [random variables exercises](http://genomicsclass.github.io/book/pages/random_variables_exercises.html)\n",
    "\n",
    "[book]: http://genomicsclass.github.io/book/\n",
    "[ePub version]: https://leanpub.com/dataanalysisforthelifesciences/\n",
    "[Source repository]: https://github.com/genomicsclass/labs"
   ]
  }
 ],
 "metadata": {
  "kernelspec": {
   "display_name": "R",
   "language": "R",
   "name": "ir"
  },
  "language_info": {
   "codemirror_mode": "r",
   "file_extension": ".r",
   "mimetype": "text/x-r-source",
   "name": "R",
   "pygments_lexer": "r",
   "version": "3.5.2"
  },
  "toc": {
   "base_numbering": 1,
   "nav_menu": {},
   "number_sections": true,
   "sideBar": true,
   "skip_h1_title": false,
   "title_cell": "Table of Contents",
   "title_sidebar": "Contents",
   "toc_cell": false,
   "toc_position": {},
   "toc_section_display": true,
   "toc_window_display": false
  }
 },
 "nbformat": 4,
 "nbformat_minor": 1
}
