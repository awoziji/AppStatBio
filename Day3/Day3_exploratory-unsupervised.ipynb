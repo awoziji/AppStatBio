{
 "cells": [
  {
   "cell_type": "markdown",
   "metadata": {},
   "source": [
    "---\n",
    "title: 'UNIVR Applied Statistics for High-throughput Biology 2018: Day 3'\n",
    "author: \"Levi Waldron\"\n",
    "date: \"Mar 13, 2018\"\n",
    "output: \n",
    "  html_document: \n",
    "    keep_md: yes\n",
    "    number_sections: yes\n",
    "    toc: yes\n",
    "---\n",
    "\n",
    "\n",
    "\n",
    "# Day 3 outline\n",
    "\n",
    "Book Chapter 2:\n",
    "- Basic data analysis\n",
    "\n",
    "Book chapter 7:\n",
    "- Distances in high dimensions\n",
    "- Principal Components Analysis\n",
    "- Multidimensional Scaling\n",
    "- Batch Effects\n",
    "\n",
    "# Exploratory data analysis\n",
    "\n",
    "## Introduction\n",
    "\n",
    "> “The greatest value of a picture is when it forces us to notice what we never expected to see.” - John W. Tukey\n",
    "\n",
    "- Discover biases, systematic errors and unexpected variability in data\n",
    "- Graphical approach to detecting these issues\n",
    "- Represents a first step in data analysis and guides hypothesis testing\n",
    "- Opportunities for discovery in the outliers\n",
    "\n",
    "## Quantile Quantile Plots\n",
    "\n",
    "- Quantiles divide a distribution into equally sized bins\n",
    "- Division into 100 bins gives percentiles\n",
    "- Quantiles of a theoretical distribution are plotted against an experimental distribution\n",
    "    - alternatively, quantiles of two experimental distributions\n",
    "- Given a perfect fit, $x=y$\n",
    "- Useful in determining data distribution (normal, t, etc.)\n",
    "\n",
    "## Quantile Quantile Plots\n",
    "\n",
    "\n",
    "\n",
    "## Boxplots\n",
    "\n",
    "- Provide a graph that is easy to interpret where data is not normally distributed\n",
    "- Would be an appropriate choice to explore income data, as distribution is highly skewed\n",
    "- Particularly informative in relation to outliers and range\n",
    "- Possible to compare multiple distributions side by side\n",
    "\n",
    "## Boxplots\n",
    "\n",
    "\n",
    "<center>\n",
    "Three different views of a continuous variable\n",
    "</center>\n",
    "\n",
    "## Scatterplots And Correlation\n",
    "\n",
    "- For two continuous variables, scatter plot and calculation of correlation is useful\n",
    "- Provides a graphical and numeric estimation of relationships\n",
    "- Quick and easy with `plot()` and `cor()`\n",
    "\n",
    "## Scatterplots And Correlation\n",
    "\n",
    "\n",
    "\n",
    "## Exploratory data analysis in high dimensions\n",
    "\n",
    "<font size=\"2\">"
   ]
  },
  {
   "cell_type": "code",
   "execution_count": null,
   "metadata": {},
   "outputs": [],
   "source": [
    "library(BiocInstaller)\n",
    "biocLite(\"genomicsclass/GSE5859Subset\")  #install from Github"
   ]
  },
  {
   "cell_type": "code",
   "execution_count": null,
   "metadata": {},
   "outputs": [],
   "source": [
    "library(GSE5859Subset)\n",
    "data(GSE5859Subset) ##this loads three tables\n",
    "c(class(geneExpression), class(sampleInfo))\n",
    "rbind(dim(geneExpression), dim(sampleInfo))\n",
    "head(sampleInfo)"
   ]
  },
  {
   "cell_type": "markdown",
   "metadata": {},
   "source": [
    "</font>\n",
    "\n",
    "## Volcano plots\n",
    "\n",
    "T-test for every row (gene) of gene expression matrix:"
   ]
  },
  {
   "cell_type": "code",
   "execution_count": null,
   "metadata": {},
   "outputs": [],
   "source": [
    "library(genefilter)\n",
    "g <- factor(sampleInfo$group)\n",
    "system.time(results <- rowttests(geneExpression,g))\n",
    "pvals <- results$p.value"
   ]
  },
  {
   "cell_type": "markdown",
   "metadata": {},
   "source": [
    "Note that these 8,793 tests are done in about 0.01s\n",
    "\n",
    "## Volcano plots"
   ]
  },
  {
   "cell_type": "code",
   "execution_count": null,
   "metadata": {},
   "outputs": [],
   "source": [
    "par(mar=c(4, 4, 0, 0))\n",
    "plot(results$dm, -log10(results$p.value),\n",
    "     xlab=\"Effect size (difference in group means)\",\n",
    "     ylab=\"- log (base 10) p-values\")\n",
    "abline(h=-log10(0.05 / nrow(geneExpression)), col=\"red\")\n",
    "legend(\"bottomright\", lty=1, col=\"red\", legend=\"Bonferroni = 0.05\")"
   ]
  },
  {
   "cell_type": "markdown",
   "metadata": {},
   "source": [
    "## Volcano plots (summary)\n",
    "\n",
    "- Many small p-values with small effect size indicate low within-group variability\n",
    "- Inspect for asymmetry\n",
    "- Can color points by significance threshold\n",
    "\n",
    "## P-value histograms\n",
    "\n",
    "- If all null hypotheses are true, expect a flat histogram of p-values:"
   ]
  },
  {
   "cell_type": "code",
   "execution_count": null,
   "metadata": {},
   "outputs": [],
   "source": [
    "m <- nrow(geneExpression)\n",
    "n <- ncol(geneExpression)\n",
    "set.seed(1); randomData <- matrix(rnorm(n*m),m,n)\n",
    "nullpvals <- rowttests(randomData,g)$p.value"
   ]
  },
  {
   "cell_type": "markdown",
   "metadata": {},
   "source": [
    "## P-value histograms\n",
    "\n",
    "Note that permuting these data doesn't produce an ideal null p-value histogram due to batch effects:"
   ]
  },
  {
   "cell_type": "code",
   "execution_count": null,
   "metadata": {},
   "outputs": [],
   "source": [
    "permg <- sample(g)\n",
    "permresults <- rowttests(geneExpression, permg)\n",
    "hist(permresults$p.value)"
   ]
  },
  {
   "cell_type": "markdown",
   "metadata": {},
   "source": [
    "## P-value histograms (summary)\n",
    "\n",
    "- Give a quick look at how many significant p-values there may be\n",
    "- When using permuted labels, can expose non-independence among the samples\n",
    "    + can be due to batch effects or family structure\n",
    "- Most common approaches for correcting batch effects are:\n",
    "    + including batch in your model formula\n",
    "    + `ComBat`: corrects for known batch effects by linear model), and \n",
    "    + `sva`: creates surrogate variables for unknown batch effects, corrects the structure of permutation p-values\n",
    "    + correction using control (housekeeping) genes\n",
    "\n",
    "All are available from the [sva](https://www.bioconductor.org/packages/sva) Bioconductor package\n",
    "\n",
    "## MA plot\n",
    "\n",
    "- just a scatterplot rotated 45$^o$"
   ]
  },
  {
   "cell_type": "code",
   "execution_count": null,
   "metadata": {},
   "outputs": [],
   "source": [
    "rafalib::mypar(1,2)\n",
    "pseudo <- apply(geneExpression, 1, median)\n",
    "plot(geneExpression[, 1], pseudo)\n",
    "plot((geneExpression[, 1] + pseudo) / 2, (geneExpression[, 1] - pseudo))"
   ]
  },
  {
   "cell_type": "markdown",
   "metadata": {},
   "source": [
    "## MA plot (summary)\n",
    "\n",
    "- useful for quality control of high-dimensional data\n",
    "- plot all data values for a sample against another sample or a median \"pseudosample\"\n",
    "- `affyPLM::MAplots` better MA plots\n",
    "    - adds a smoothing line to highlight departures from horizontal line\n",
    "    - plots a \"cloud\" rather than many data points\n",
    "\n",
    "## Heatmaps\n",
    "\n",
    "Detailed representation of high-dimensional dataset"
   ]
  },
  {
   "cell_type": "code",
   "execution_count": null,
   "metadata": {},
   "outputs": [],
   "source": [
    "ge = geneExpression[sample(1:nrow(geneExpression), 200), ]\n",
    "pheatmap::pheatmap(ge, scale=\"row\", show_colnames = F, show_rownames = F)"
   ]
  },
  {
   "cell_type": "markdown",
   "metadata": {},
   "source": [
    "## Heatmaps\n",
    "\n",
    "- Clustering becomes slow and memory-intensivefor thousands of rows\n",
    "    - probably too detailed for thousands of rows\n",
    "- can show co-expressed genes, groups of samples\n",
    "\n",
    "## Colors\n",
    "\n",
    "- Types of color pallettes: \n",
    "    - **sequential**: shows a gradient\n",
    "    - **diverging**: goes in two directions from a center\n",
    "    - **qualitative**: for categorical variables\n",
    "- Keep color blindness in mind (10% of all men)\n",
    "\n",
    "Combination of `RColorBrewer` package and `colorRampPalette()` can create anything you want\n",
    "\n",
    "\n",
    "\n",
    "## Plots To Avoid\n",
    "\n",
    "> \"Pie charts are a very bad way of displaying information.\" - R Help\n",
    "\n",
    "- Always avoid pie charts\n",
    "- Avoid doughnut charts too\n",
    "- Avoid pseudo 3D and most Excel defaults\n",
    "- Effective graphs use color judiciously\n",
    "\n",
    "# Distances in high-dimensional data analysis\n",
    "\n",
    "## The importance of distance\n",
    "\n",
    "- High-dimensional data are complex and impossible to visualize in raw form\n",
    "- Thousands of dimensions, we can only visualize 2-3\n",
    "- Distances can simplify thousands of dimensions\n",
    "\n",
    "<center>\n",
    "<img src=\"animals.png\" alt=\"animals\" align=\"middle\" style=\"height: 350px;\">\n",
    "</center>\n",
    "\n",
    "\n",
    "- Distances can help organize samples and genomic features\n",
    "\n",
    "\n",
    "\n",
    "\n",
    "- Any clustering or classification of samples and/or genes involves\n",
    "combining or identifying objects that are close or similar.\n",
    "- Distances or similarities are mathematical representations of what\n",
    "we mean by close or similar.\n",
    "- The choice of distance is important and requires thought. \n",
    "    - choice is subject-matter specific\n",
    "\n",
    "<font size=\"2\">\n",
    "Source: http://master.bioconductor.org/help/course-materials/2002/Summer02Course/Distance/distance.pdf\n",
    "</font>\n",
    "\n",
    "## Metrics and distances\n",
    "\n",
    "A **metric** satisfies the following five properties:\n",
    "\n",
    "1. non-negativity $d(a, b) \\ge 0$\n",
    "2. symmetry $d(a, b) = d(b, a)$\n",
    "3. identification mark $d(a, a) = 0$\n",
    "4. definiteness $d(a, b) = 0$ if and only if $a=b$\n",
    "5. triangle inequality $d(a, b) + d(b, c) \\ge d(a, c)$\n",
    "\n",
    "- A **distance** is only required to satisfy 1-3.\n",
    "- A **similarity function** satisfies 1-2, and **increases** as $a$ and $b$ become more similar\n",
    "- A **dissimilarity function** satisfies 1-2, and **decreases** as $a$ and $b$ become more similar\n",
    "\n",
    "\n",
    "## Euclidian distance (metric)\n",
    "\n",
    "- Remember grade school:\n",
    "\n",
    "<center>\n",
    "Euclidean d = $\\sqrt{ (A_x-B_x)^2 + (A_y-B_y)^2}$.\n",
    "</center>\n",
    "\n",
    "- **Side note**: also referred to as *$L_2$ norm*\n",
    "\n",
    "## Euclidian distance in high dimensions"
   ]
  },
  {
   "cell_type": "code",
   "execution_count": null,
   "metadata": {},
   "outputs": [],
   "source": [
    "##biocLite(\"genomicsclass/tissuesGeneExpression\")\n",
    "library(tissuesGeneExpression)\n",
    "data(tissuesGeneExpression)\n",
    "dim(e) ##gene expression data\n",
    "table(tissue) ##tissue[i] corresponds to e[,i]"
   ]
  },
  {
   "cell_type": "markdown",
   "metadata": {},
   "source": [
    "Interested in identifying similar *samples* and similar *genes*\n",
    "\n",
    "### Notes:\n",
    "\n",
    "- Points are no longer on the Cartesian plane,\n",
    "- instead they are in higher dimensions. For example:\n",
    "    - sample $i$ is defined by a point in 22,215 dimensional space: $(Y_{1,i},\\dots,Y_{22215,i})^\\top$. \n",
    "    - feature $g$ is defined by a point in 189 dimensions $(Y_{g,189},\\dots,Y_{g,189})^\\top$\n",
    "\n",
    "Euclidean distance as for two dimensions. E.g., the distance between two samples $i$ and $j$ is:\n",
    "\n",
    "$$ \\mbox{dist}(i,j) = \\sqrt{ \\sum_{g=1}^{22215} (Y_{g,i}-Y_{g,j })^2 } $$\n",
    "\n",
    "and the distance between two features $h$ and $g$ is:\n",
    "\n",
    "$$ \\mbox{dist}(h,g) = \\sqrt{ \\sum_{i=1}^{189} (Y_{h,i}-Y_{g,i})^2 } $$\n",
    "\n",
    "## Matrix algebra notation\n",
    "\n",
    "The distance between samples $i$ and $j$ can be written as:\n",
    "\n",
    "$$ \\mbox{dist}(i,j) = \\sqrt{ (\\mathbf{Y}_i - \\mathbf{Y}_j)^\\top(\\mathbf{Y}_i - \\mathbf{Y}_j) }$$\n",
    "\n",
    "with $\\mathbf{Y}_i$ and $\\mathbf{Y}_j$ columns $i$ and $j$."
   ]
  },
  {
   "cell_type": "code",
   "execution_count": null,
   "metadata": {},
   "outputs": [],
   "source": [
    "t(matrix(1:3, ncol=1))\n",
    "matrix(1:3, ncol=1)\n",
    "t(matrix(1:3, ncol=1)) %*% matrix(1:3, ncol=1)"
   ]
  },
  {
   "cell_type": "markdown",
   "metadata": {},
   "source": [
    "Note: R is very efficient at matrix algebra\n",
    "\n",
    "## 3 sample example"
   ]
  },
  {
   "cell_type": "code",
   "execution_count": null,
   "metadata": {},
   "outputs": [],
   "source": [
    "kidney1 <- e[, 1]\n",
    "kidney2 <- e[, 2]\n",
    "colon1 <- e[, 87]\n",
    "sqrt(sum((kidney1 - kidney2)^2))\n",
    "sqrt(sum((kidney1 - colon1)^2))"
   ]
  },
  {
   "cell_type": "markdown",
   "metadata": {},
   "source": [
    "## 3 sample example using dist()"
   ]
  },
  {
   "cell_type": "code",
   "execution_count": null,
   "metadata": {},
   "outputs": [],
   "source": [
    "dim(e)\n",
    "(d <- dist(t(e[, c(1, 2, 87)])))\n",
    "class(d)"
   ]
  },
  {
   "cell_type": "markdown",
   "metadata": {},
   "source": [
    "## The dist() function\n",
    "\n",
    "Excerpt from ?dist:"
   ]
  },
  {
   "cell_type": "code",
   "execution_count": null,
   "metadata": {},
   "outputs": [],
   "source": [
    "dist(x, method = \"euclidean\", diag = FALSE, upper = FALSE, p = 2)"
   ]
  },
  {
   "cell_type": "markdown",
   "metadata": {},
   "source": [
    "- **method:** the distance measure to be used. \n",
    "    - This must be one of \"euclidean\", \"maximum\", \"manhattan\", \"canberra\", \"binary\" or \"minkowski\". Any unambiguous substring can be given.\n",
    "- `dist` class output from `dist()` is used for many clustering algorithms and heatmap functions\n",
    "\n",
    "*Caution*: `dist(e)` creates a `nrow(e)` x `nrow(e)` matrix that will probably crash your R session.\n",
    "\n",
    "## Note on standardization\n",
    "\n",
    "- In practice, features (e.g. genes) are typically \"standardized\", *i.e.* converted to z-score:\n",
    "\n",
    "$$x_{gi} \\leftarrow \\frac{(x_{gi} - \\bar{x}_g)}{s_g}$$\n",
    "\n",
    "- This is done because the differences in overall levels between features are often not due to biological effects but technical ones, *e.g.*:\n",
    "    - GC bias, PCR amplification efficiency, ...\n",
    "- Euclidian distance and $1-r$ (Pearson cor) are related:\n",
    "    - $\\frac{d_E(x, y)^2}{2m} = 1 - r_{xy}$\n",
    "\n",
    "# Dimension reduction and PCA\n",
    "\n",
    "## Motivation for dimension reduction\n",
    "\n",
    "Simulate the heights of twin pairs:"
   ]
  },
  {
   "cell_type": "code",
   "execution_count": null,
   "metadata": {},
   "outputs": [],
   "source": [
    "library(MASS)\n",
    "set.seed(1)\n",
    "n <- 100\n",
    "y <- t(MASS::mvrnorm(n, c(0,0), matrix(c(1, 0.95, 0.95, 1), 2, 2)))\n",
    "dim(y)\n",
    "cor(t(y))"
   ]
  },
  {
   "cell_type": "markdown",
   "metadata": {},
   "source": [
    "### Visualizing twin pairs data\n",
    "\n",
    "\n",
    "\n",
    "### Not much distance is lost in the second dimension\n",
    "\n",
    "<center>\n",
    "\n",
    "</center>\n",
    "\n",
    "- Not much loss of height differences when just using average heights of twin pairs.\n",
    "    - because twin heights are highly correlated\n",
    "\n",
    "## Singular Value Decomposition (SVD)\n",
    "\n",
    "SVD generalizes the example rotation we looked at:\n",
    "\n",
    "$$\\mathbf{Y} = \\mathbf{UDV}^\\top$$\n",
    "\n",
    "<center>\n",
    "<img src=\"SVD1.png\" alt=\"SVD\" align=\"middle\" style=\"height: 350px;\">\n",
    "</center>\n",
    "\n",
    "- **note**: the above formulation is for $m > n$\n",
    "\n",
    "- $\\mathbf{Y}$: the m rows x n cols matrix of measurements\n",
    "- $\\mathbf{U}$: m x n matrix relating original scores to PCA scores (**loadings**)\n",
    "- $\\mathbf{D}$: n x n diagonal matrix (**eigenvalues**)\n",
    "- $\\mathbf{V}$: n × n *orthogonal* matrix (**eigenvectors or PCA scores**)\n",
    "    - orthogonal = unit length and \"perpendicular\" in 3-D\n",
    "\n",
    "## SVD of gene expression dataset\n",
    "\n",
    "Scaling:"
   ]
  },
  {
   "cell_type": "code",
   "execution_count": null,
   "metadata": {},
   "outputs": [],
   "source": [
    "system.time(e.standardize.slow <- t(apply(e, 1, function(x) x - mean(x) )))\n",
    "system.time(e.standardize.fast <- t(scale(t(e), scale=FALSE)))\n",
    "all.equal(e.standardize.slow[, 1], e.standardize.fast[, 1])"
   ]
  },
  {
   "cell_type": "markdown",
   "metadata": {},
   "source": [
    "SVD:"
   ]
  },
  {
   "cell_type": "code",
   "execution_count": null,
   "metadata": {},
   "outputs": [],
   "source": [
    "s <- svd(e.standardize.fast)\n",
    "names(s)"
   ]
  },
  {
   "cell_type": "markdown",
   "metadata": {},
   "source": [
    "## Components of SVD results"
   ]
  },
  {
   "cell_type": "code",
   "execution_count": null,
   "metadata": {},
   "outputs": [],
   "source": [
    "dim(s$u)     # loadings\n",
    "length(s$d)  # eigenvalues\n",
    "dim(s$v)     # d %*% vT = scores"
   ]
  },
  {
   "cell_type": "markdown",
   "metadata": {},
   "source": [
    "<center>\n",
    "<img src=\"SVD1.png\" alt=\"SVD\" align=\"middle\" style=\"height: 200px;\">\n",
    "</center>\n",
    "\n",
    "## PCA of gene expression dataset"
   ]
  },
  {
   "cell_type": "code",
   "execution_count": null,
   "metadata": {},
   "outputs": [],
   "source": [
    "rafalib::mypar()\n",
    "p <- prcomp( t(e.standardize.fast) )\n",
    "plot(s$u[, 1] ~ p$rotation[, 1])"
   ]
  },
  {
   "cell_type": "markdown",
   "metadata": {},
   "source": [
    "**Lesson:** u and v can each be multiplied by -1 arbitrarily\n",
    "\n",
    "## PCA interpretation: loadings\n",
    "\n",
    "<center>\n",
    "<img src=\"SVD1.png\" alt=\"SVD\" align=\"middle\" style=\"height: 225px;\">\n",
    "</center>\n",
    "\n",
    "- $\\mathbf{U}$ (**loadings**): relate the *principal component* axes to the original variables\n",
    "    - think of principal component axes as a weighted combination of original axes\n",
    "\n",
    "## Visualizing PCA loadings"
   ]
  },
  {
   "cell_type": "code",
   "execution_count": null,
   "metadata": {},
   "outputs": [],
   "source": [
    "plot(p$rotation[, 1], xlab=\"Index of genes\", ylab=\"Loadings of PC1\", \n",
    "     main=\"Scores of PC1\") #or, predict(p)\n",
    "abline(h=c(-0.03, 0.04), col=\"red\")"
   ]
  },
  {
   "cell_type": "markdown",
   "metadata": {},
   "source": [
    "Genes with high PC1 loadings:"
   ]
  },
  {
   "cell_type": "code",
   "execution_count": null,
   "metadata": {},
   "outputs": [],
   "source": [
    "e.pc1genes <- e.standardize.fast[p$rotation[, 1] < -0.03 | p$rotation[, 1] > 0.03, ]\n",
    "pheatmap::pheatmap(e.pc1genes, scale=\"none\", show_rownames=TRUE, \n",
    "                  show_colnames = FALSE)"
   ]
  },
  {
   "cell_type": "markdown",
   "metadata": {},
   "source": [
    "## PCA interpretation: eigenvalues\n",
    "\n",
    "- $\\mathbf{D}$ (**eigenvalues**): standard deviation scaling factor that each decomposed variable is multiplied by.\n",
    "\n",
    "\n",
    "\n",
    "Alternatively as cumulative % variance explained (using `cumsum()` function):\n",
    "\n",
    "\n",
    "## PCA interpretation: scores\n",
    "\n",
    "<center>\n",
    "<img src=\"SVD1.png\" alt=\"SVD\" align=\"middle\" style=\"height: 225px;\">\n",
    "</center>\n",
    "\n",
    "- $\\mathbf{V}$ (**scores**): The \"datapoints\" in the reduced prinipal component space\n",
    "- In some implementations (like `prcomp()`), scores $\\mathbf{D V^T}$\n",
    "\n",
    "## PCA interpretation: scores\n",
    "\n",
    "\n",
    "\n",
    "## Multi-dimensional Scaling (MDS)\n",
    "\n",
    "- also referred to as Principal Coordinates Analysis (PCoA)\n",
    "- a reduced SVD, performed on a distance matrix\n",
    "- identify two (or more) eigenvalues/vectors that preserve distances"
   ]
  },
  {
   "cell_type": "code",
   "execution_count": null,
   "metadata": {},
   "outputs": [],
   "source": [
    "d <- as.dist(1 - cor(e.standardize.fast))\n",
    "mds <- cmdscale(d)"
   ]
  },
  {
   "cell_type": "markdown",
   "metadata": {},
   "source": [
    "## Summary: distances and dimension reduction\n",
    "\n",
    "- **Note**: signs of eigenvalues (square to get variances) and eigenvectors (loadings) can be arbitrarily flipped\n",
    "- PCA and MDS are useful for dimension reduction when you have **correlated variables**\n",
    "- Variables are always centered.  \n",
    "- Variables are also scaled unless you know they have the same scale in the population\n",
    "- PCA projection can be applied to new datasets if you know the matrix calculations\n",
    "- PCA is subject to over-fitting, screeplot can be tested by cross-validation\n",
    "\n",
    "# Batch Effects\n",
    "\n",
    "## Batch Effects\n",
    "\n",
    "- pervasive in genomics (e.g. [Leek *et al.*](https://www.ncbi.nlm.nih.gov/pubmed/?term=20838408) )\n",
    "- affect DNA and RNA sequencing, proteomics, imaging, microarray...\n",
    "- have caused high-profile problems and retractions\n",
    "    - you can't get rid of them\n",
    "    - but you can make sure they are not confounded with your experiment\n",
    "    \n",
    "## Batch Effects - an example\n",
    "\n",
    "- Nat Genet. 2007 Feb;39(2):226-31. Epub 2007 Jan 7.\n",
    "- Title: *Common genetic variants account for differences in gene expression among ethnic groups.*\n",
    "    - \"The results show that specific genetic variation among populations contributes appreciably to differences in gene expression phenotypes.\""
   ]
  },
  {
   "cell_type": "code",
   "execution_count": null,
   "metadata": {},
   "outputs": [],
   "source": [
    "library(Biobase)\n",
    "library(genefilter)\n",
    "library(GSE5859) ## BiocInstaller::biocLite(\"genomicsclass/GSE5859\")\n",
    "data(GSE5859)\n",
    "geneExpression = exprs(e)\n",
    "sampleInfo = pData(e)"
   ]
  },
  {
   "cell_type": "markdown",
   "metadata": {},
   "source": [
    "## Date of processing as a proxy for batch\n",
    "\n",
    "- Sample metadata included *date of processing*:"
   ]
  },
  {
   "cell_type": "code",
   "execution_count": null,
   "metadata": {},
   "outputs": [],
   "source": [
    "head(table(sampleInfo$date))"
   ]
  },
  {
   "cell_type": "code",
   "execution_count": null,
   "metadata": {},
   "outputs": [],
   "source": [
    "year <-  as.integer(format(sampleInfo$date,\"%y\") )\n",
    "year <- year - min(year)\n",
    "month = as.integer( format(sampleInfo$date,\"%m\") ) + 12*year\n",
    "table(year, sampleInfo$ethnicity)"
   ]
  },
  {
   "cell_type": "markdown",
   "metadata": {},
   "source": [
    "## Visualizing batch effects by PCA"
   ]
  },
  {
   "cell_type": "code",
   "execution_count": null,
   "metadata": {},
   "outputs": [],
   "source": [
    "pc <- prcomp(t(geneExpression), scale.=TRUE)\n",
    "boxplot(pc$x[, 1] ~ month, varwidth=TRUE, notch=TRUE,\n",
    "        main=\"PC1 scores vs. month\", xlab=\"Month\", ylab=\"PC1\")"
   ]
  },
  {
   "cell_type": "markdown",
   "metadata": {},
   "source": [
    "## Visualizing batch effects by MDS\n",
    "\n",
    "A starting point for a color palette:"
   ]
  },
  {
   "cell_type": "code",
   "execution_count": null,
   "metadata": {},
   "outputs": [],
   "source": [
    "RColorBrewer::display.brewer.all(n=3, colorblindFriendly = TRUE)"
   ]
  },
  {
   "cell_type": "markdown",
   "metadata": {},
   "source": [
    "Interpolate one color per month on a quantitative palette:"
   ]
  },
  {
   "cell_type": "code",
   "execution_count": null,
   "metadata": {},
   "outputs": [],
   "source": [
    "col3 <- c(RColorBrewer::brewer.pal(n=3, \"Greys\")[2:3], \"black\")\n",
    "MYcols <- colorRampPalette(col3, space=\"Lab\")(length(unique(month)))"
   ]
  },
  {
   "cell_type": "code",
   "execution_count": null,
   "metadata": {},
   "outputs": [],
   "source": [
    "d <- as.dist(1 - cor(geneExpression))\n",
    "mds <- cmdscale(d)\n",
    "plot(mds, col=MYcols[as.integer(factor(month))],\n",
    "     main=\"MDS shaded by batch\")"
   ]
  },
  {
   "cell_type": "markdown",
   "metadata": {},
   "source": [
    "## The batch effects impact clustering"
   ]
  },
  {
   "cell_type": "code",
   "execution_count": null,
   "metadata": {},
   "outputs": [],
   "source": [
    "hcclass <- cutree(hclust(d), k=5)\n",
    "table(hcclass, year)"
   ]
  },
  {
   "cell_type": "markdown",
   "metadata": {},
   "source": [
    "## Batch Effects - summary\n",
    "\n",
    "- tend to affect many or all measurements by a little bit\n",
    "- during experimental design:\n",
    "    - keep track of anything that might cause a batch effect for post-hoc analysis\n",
    "    - include control samples in each batch\n",
    "- batches can be corrected for if randomized in study design\n",
    "    - if confounded with treatment or outcome of interest, nothing can help you\n",
    "\n",
    "# Lab\n",
    "\n",
    "Exploratory Data Analysis: http://genomicsclass.github.io/book/pages/exploratory_data_analysis_exercises.html\n",
    "\n",
    "<center>\n",
    "<img src=\"exploratory_data_analysis_exercises-hist_exercise-1.png\" alt=\"hist\" align=\"middle\" style=\"height: 350px;\">\n",
    "</center>\n",
    "\n",
    "1. Given the above histogram, how many people are between the ages of 35 and 45?\n",
    "\n",
    "2. The `InsectSprays` data set is included in R. The dataset reports the counts of insects in agricultural experimental units treated with different insecticides. Make a boxplot and determine which insecticide appears to be most effective.\n",
    "\n",
    "3. Download and load [this dataset](http://courses.edx.org/c4x/HarvardX/PH525.1x/asset/skew.RData) into R. Use exploratory data analysis tools to determine which two columns are different from the rest. Which is the column that is positively skewed?\n",
    "\n",
    "4. Which is the column that is negatively skewed?\n",
    "\n",
    "5. Let’s consider a random sample of finishers from the New York City Marathon in 2002. This dataset can be found in the UsingR package. Load the library and then load the `nym.2002` dataset."
   ]
  },
  {
   "cell_type": "code",
   "execution_count": null,
   "metadata": {},
   "outputs": [],
   "source": [
    "suppressPackageStartupMessages(library(dplyr))\n",
    "data(nym.2002, package=\"UsingR\")"
   ]
  },
  {
   "cell_type": "markdown",
   "metadata": {},
   "source": [
    "Use boxplots and histograms to compare the finishing times of males and females. Which of the following best describes the difference?"
   ]
  },
  {
   "cell_type": "code",
   "execution_count": null,
   "metadata": {},
   "outputs": [],
   "source": [
    "A) Males and females have the same distribution.\n",
    "B) Most males are faster than most women.\n",
    "C) Male and females have similar right skewed distributions with the former, 20 minutes shifted to the left.\n",
    "D) Both distribution are normally distributed with a difference in mean of about 30 minutes."
   ]
  },
  {
   "cell_type": "markdown",
   "metadata": {},
   "source": [
    "6. Use `dplyr` to create two new data frames: males and females, with the data for each gender. For males, what is the Pearson correlation between age and time to finish?\n",
    "\n",
    "7. For females, what is the Pearson correlation between age and time to finish?\n",
    "\n",
    "8. If we interpret these correlations without visualizing the data, we would conclude that the older we get, the slower we run marathons, regardless of gender. Look at scatterplots and boxplots of times stratified by age groups (20-25, 25-30, etc..). After examining the data, what is a more reasonable conclusion?"
   ]
  },
  {
   "cell_type": "code",
   "execution_count": null,
   "metadata": {},
   "outputs": [],
   "source": [
    "A) Finish times are constant up until about our 40s, then we get slower.\n",
    "B) On average, finish times go up by about 7 minutes every five years.\n",
    "C) The optimal age to run a marathon is 20-25.\n",
    "D) Coding errors never happen: a five year old boy completed the 2012 NY city marathon."
   ]
  },
  {
   "cell_type": "markdown",
   "metadata": {},
   "source": [
    "9. When is it appropriate to use pie charts or donut charts?\n",
    "    A) When you are hungry.\n",
    "    B) To compare percentages.\n",
    "    C) To compare values that add up to 100%.\n",
    "    D) Never.\n",
    "\n",
    "10. The use of pseudo-3D plots in the literature mostly adds:\n",
    "    A) Pizzazz.\n",
    "    B) The ability to see three dimensional data.\n",
    "    C) Ability to discover.\n",
    "    D) Confusion."
   ]
  }
 ],
 "metadata": {},
 "nbformat": 4,
 "nbformat_minor": 2
}
